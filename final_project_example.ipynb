{
 "cells": [
  {
   "cell_type": "code",
   "execution_count": null,
   "metadata": {},
   "outputs": [
    {
     "name": "stdout",
     "output_type": "stream",
     "text": [
      "   PatientID  Age  Gender  Ethnicity  SocioeconomicStatus  EducationLevel  \\\n",
      "0       6000   44       0          1                    2               1   \n",
      "1       6001   51       1          0                    1               2   \n",
      "2       6002   89       1          0                    1               3   \n",
      "3       6003   21       1          1                    1               2   \n",
      "4       6004   27       1          0                    1               3   \n",
      "\n",
      "         BMI  Smoking  AlcoholConsumption  PhysicalActivity  ...  \\\n",
      "0  32.985284        1            4.499365          2.443385  ...   \n",
      "1  39.916764        0            1.578919          8.301264  ...   \n",
      "2  19.782251        0            1.177301          6.103395  ...   \n",
      "3  32.376881        1            1.714621          8.645465  ...   \n",
      "4  16.808600        0           15.462549          4.629383  ...   \n",
      "\n",
      "   TinglingHandsFeet  QualityOfLifeScore  HeavyMetalsExposure  \\\n",
      "0                  1           73.765109                    0   \n",
      "1                  0           91.445753                    0   \n",
      "2                  0           54.485744                    0   \n",
      "3                  0           77.866758                    0   \n",
      "4                  0           37.731808                    0   \n",
      "\n",
      "   OccupationalExposureChemicals  WaterQuality  MedicalCheckupsFrequency  \\\n",
      "0                              0             0                  1.782724   \n",
      "1                              0             1                  3.381070   \n",
      "2                              0             0                  2.701019   \n",
      "3                              0             1                  1.409056   \n",
      "4                              0             0                  1.218452   \n",
      "\n",
      "   MedicationAdherence  HealthLiteracy  Diagnosis  DoctorInCharge  \n",
      "0             4.486980        7.211349          1    Confidential  \n",
      "1             5.961705        5.024612          1    Confidential  \n",
      "2             8.950821        7.034944          0    Confidential  \n",
      "3             3.124769        4.717774          0    Confidential  \n",
      "4             6.977741        7.887940          0    Confidential  \n",
      "\n",
      "[5 rows x 46 columns]\n"
     ]
    }
   ],
   "source": [
    "# Import necessary libraries\n",
    "import pandas as pd\n",
    "import seaborn as sns\n",
    "import matplotlib.pyplot as plt\n",
    "\n",
    "# Load the Titanic dataset. Replace 'titanic.csv' with your own dataset file for your project.\n",
    "# Ensure the dataset file exists and is in the same directory as this jupyter notebook.\n",
    "\n",
    "# replaced with my dataset\n",
    "df = pd.read_csv('diabetes_data.csv')\n",
    "\n",
    "# Display the first few rows of the dataframe to ensure it is loaded correctly\n",
    "print(df.head())"
   ]
  },
  {
   "cell_type": "code",
   "execution_count": 9,
   "metadata": {},
   "outputs": [
    {
     "name": "stdout",
     "output_type": "stream",
     "text": [
      "<class 'pandas.core.frame.DataFrame'>\n",
      "RangeIndex: 1879 entries, 0 to 1878\n",
      "Data columns (total 45 columns):\n",
      " #   Column                         Non-Null Count  Dtype  \n",
      "---  ------                         --------------  -----  \n",
      " 0   PatientID                      1879 non-null   int64  \n",
      " 1   Age                            1879 non-null   int64  \n",
      " 2   Gender                         1879 non-null   int64  \n",
      " 3   Ethnicity                      1879 non-null   int64  \n",
      " 4   SocioeconomicStatus            1879 non-null   int64  \n",
      " 5   EducationLevel                 1879 non-null   int64  \n",
      " 6   BMI                            1879 non-null   float64\n",
      " 7   Smoking                        1879 non-null   int64  \n",
      " 8   AlcoholConsumption             1879 non-null   float64\n",
      " 9   PhysicalActivity               1879 non-null   float64\n",
      " 10  DietQuality                    1879 non-null   float64\n",
      " 11  SleepQuality                   1879 non-null   float64\n",
      " 12  FamilyHistoryDiabetes          1879 non-null   int64  \n",
      " 13  GestationalDiabetes            1879 non-null   int64  \n",
      " 14  PolycysticOvarySyndrome        1879 non-null   int64  \n",
      " 15  PreviousPreDiabetes            1879 non-null   int64  \n",
      " 16  Hypertension                   1879 non-null   int64  \n",
      " 17  SystolicBP                     1879 non-null   int64  \n",
      " 18  DiastolicBP                    1879 non-null   int64  \n",
      " 19  FastingBloodSugar              1879 non-null   float64\n",
      " 20  HbA1c                          1879 non-null   float64\n",
      " 21  SerumCreatinine                1879 non-null   float64\n",
      " 22  BUNLevels                      1879 non-null   float64\n",
      " 23  CholesterolTotal               1879 non-null   float64\n",
      " 24  CholesterolLDL                 1879 non-null   float64\n",
      " 25  CholesterolHDL                 1879 non-null   float64\n",
      " 26  CholesterolTriglycerides       1879 non-null   float64\n",
      " 27  AntihypertensiveMedications    1879 non-null   int64  \n",
      " 28  Statins                        1879 non-null   int64  \n",
      " 29  AntidiabeticMedications        1879 non-null   int64  \n",
      " 30  FrequentUrination              1879 non-null   int64  \n",
      " 31  ExcessiveThirst                1879 non-null   int64  \n",
      " 32  UnexplainedWeightLoss          1879 non-null   int64  \n",
      " 33  FatigueLevels                  1879 non-null   float64\n",
      " 34  BlurredVision                  1879 non-null   int64  \n",
      " 35  SlowHealingSores               1879 non-null   int64  \n",
      " 36  TinglingHandsFeet              1879 non-null   int64  \n",
      " 37  QualityOfLifeScore             1879 non-null   float64\n",
      " 38  HeavyMetalsExposure            1879 non-null   int64  \n",
      " 39  OccupationalExposureChemicals  1879 non-null   int64  \n",
      " 40  WaterQuality                   1879 non-null   int64  \n",
      " 41  MedicalCheckupsFrequency       1879 non-null   float64\n",
      " 42  MedicationAdherence            1879 non-null   float64\n",
      " 43  HealthLiteracy                 1879 non-null   float64\n",
      " 44  Diagnosis                      1879 non-null   int64  \n",
      "dtypes: float64(18), int64(27)\n",
      "memory usage: 660.7 KB\n",
      "None\n"
     ]
    }
   ],
   "source": [
    "print(df.info())"
   ]
  },
  {
   "cell_type": "code",
   "execution_count": 10,
   "metadata": {},
   "outputs": [
    {
     "name": "stdout",
     "output_type": "stream",
     "text": [
      "         PatientID          Age       Gender    Ethnicity  \\\n",
      "count  1879.000000  1879.000000  1879.000000  1879.000000   \n",
      "mean   6939.000000    55.043108     0.487493     0.755721   \n",
      "std     542.564896    20.515839     0.499977     1.047558   \n",
      "min    6000.000000    20.000000     0.000000     0.000000   \n",
      "25%    6469.500000    38.000000     0.000000     0.000000   \n",
      "50%    6939.000000    55.000000     0.000000     0.000000   \n",
      "75%    7408.500000    73.000000     1.000000     1.000000   \n",
      "max    7878.000000    90.000000     1.000000     3.000000   \n",
      "\n",
      "       SocioeconomicStatus  EducationLevel          BMI      Smoking  \\\n",
      "count          1879.000000     1879.000000  1879.000000  1879.000000   \n",
      "mean              0.992017        1.699308    27.687601     0.281533   \n",
      "std               0.764940        0.885665     7.190975     0.449866   \n",
      "min               0.000000        0.000000    15.025898     0.000000   \n",
      "25%               0.000000        1.000000    21.469981     0.000000   \n",
      "50%               1.000000        2.000000    27.722988     0.000000   \n",
      "75%               2.000000        2.000000    33.856460     1.000000   \n",
      "max               2.000000        3.000000    39.998811     1.000000   \n",
      "\n",
      "       AlcoholConsumption  PhysicalActivity  ...  SlowHealingSores  \\\n",
      "count         1879.000000       1879.000000  ...       1879.000000   \n",
      "mean            10.096587          5.200790  ...          0.102714   \n",
      "std              5.914216          2.857012  ...          0.303666   \n",
      "min              0.000928          0.004089  ...          0.000000   \n",
      "25%              4.789725          2.751022  ...          0.000000   \n",
      "50%             10.173865          5.249002  ...          0.000000   \n",
      "75%             15.285359          7.671402  ...          0.000000   \n",
      "max             19.996231          9.993893  ...          1.000000   \n",
      "\n",
      "       TinglingHandsFeet  QualityOfLifeScore  HeavyMetalsExposure  \\\n",
      "count        1879.000000         1879.000000          1879.000000   \n",
      "mean            0.111229           48.508643             0.052155   \n",
      "std             0.314500           28.758488             0.222400   \n",
      "min             0.000000            0.002390             0.000000   \n",
      "25%             0.000000           23.974098             0.000000   \n",
      "50%             0.000000           47.519693             0.000000   \n",
      "75%             0.000000           72.883179             0.000000   \n",
      "max             1.000000           99.788530             1.000000   \n",
      "\n",
      "       OccupationalExposureChemicals  WaterQuality  MedicalCheckupsFrequency  \\\n",
      "count                    1879.000000   1879.000000               1879.000000   \n",
      "mean                        0.103246      0.200639                  1.997101   \n",
      "std                         0.304361      0.400585                  1.122632   \n",
      "min                         0.000000      0.000000                  0.004013   \n",
      "25%                         0.000000      0.000000                  1.057801   \n",
      "50%                         0.000000      0.000000                  1.987170   \n",
      "75%                         0.000000      0.000000                  2.946019   \n",
      "max                         1.000000      1.000000                  3.999715   \n",
      "\n",
      "       MedicationAdherence  HealthLiteracy    Diagnosis  \n",
      "count          1879.000000     1879.000000  1879.000000  \n",
      "mean              4.957539        5.011736     0.400213  \n",
      "std               2.910934        2.920908     0.490072  \n",
      "min               0.005384        0.000362     0.000000  \n",
      "25%               2.420024        2.410113     0.000000  \n",
      "50%               4.843886        5.035208     0.000000  \n",
      "75%               7.513933        7.586865     1.000000  \n",
      "max               9.997165        9.993029     1.000000  \n",
      "\n",
      "[8 rows x 45 columns]\n"
     ]
    }
   ],
   "source": [
    "print(df.describe())"
   ]
  },
  {
   "cell_type": "code",
   "execution_count": 11,
   "metadata": {},
   "outputs": [
    {
     "name": "stdout",
     "output_type": "stream",
     "text": [
      "PatientID                        0\n",
      "Age                              0\n",
      "Gender                           0\n",
      "Ethnicity                        0\n",
      "SocioeconomicStatus              0\n",
      "EducationLevel                   0\n",
      "BMI                              0\n",
      "Smoking                          0\n",
      "AlcoholConsumption               0\n",
      "PhysicalActivity                 0\n",
      "DietQuality                      0\n",
      "SleepQuality                     0\n",
      "FamilyHistoryDiabetes            0\n",
      "GestationalDiabetes              0\n",
      "PolycysticOvarySyndrome          0\n",
      "PreviousPreDiabetes              0\n",
      "Hypertension                     0\n",
      "SystolicBP                       0\n",
      "DiastolicBP                      0\n",
      "FastingBloodSugar                0\n",
      "HbA1c                            0\n",
      "SerumCreatinine                  0\n",
      "BUNLevels                        0\n",
      "CholesterolTotal                 0\n",
      "CholesterolLDL                   0\n",
      "CholesterolHDL                   0\n",
      "CholesterolTriglycerides         0\n",
      "AntihypertensiveMedications      0\n",
      "Statins                          0\n",
      "AntidiabeticMedications          0\n",
      "FrequentUrination                0\n",
      "ExcessiveThirst                  0\n",
      "UnexplainedWeightLoss            0\n",
      "FatigueLevels                    0\n",
      "BlurredVision                    0\n",
      "SlowHealingSores                 0\n",
      "TinglingHandsFeet                0\n",
      "QualityOfLifeScore               0\n",
      "HeavyMetalsExposure              0\n",
      "OccupationalExposureChemicals    0\n",
      "WaterQuality                     0\n",
      "MedicalCheckupsFrequency         0\n",
      "MedicationAdherence              0\n",
      "HealthLiteracy                   0\n",
      "Diagnosis                        0\n",
      "dtype: int64\n"
     ]
    },
    {
     "ename": "KeyError",
     "evalue": "\"['DoctorInCharge'] not found in axis\"",
     "output_type": "error",
     "traceback": [
      "\u001b[31m---------------------------------------------------------------------------\u001b[39m",
      "\u001b[31mKeyError\u001b[39m                                  Traceback (most recent call last)",
      "\u001b[36mCell\u001b[39m\u001b[36m \u001b[39m\u001b[32mIn[11]\u001b[39m\u001b[32m, line 6\u001b[39m\n\u001b[32m      1\u001b[39m \u001b[38;5;28mprint\u001b[39m(df.isna().sum())\n\u001b[32m      3\u001b[39m \u001b[38;5;66;03m# no row has null values\u001b[39;00m\n\u001b[32m      4\u001b[39m \n\u001b[32m      5\u001b[39m \u001b[38;5;66;03m# DoctorInCharge column is 'confidential' for every row so it is not needed\u001b[39;00m\n\u001b[32m----> \u001b[39m\u001b[32m6\u001b[39m \u001b[43mdf\u001b[49m\u001b[43m.\u001b[49m\u001b[43mdrop\u001b[49m\u001b[43m(\u001b[49m\u001b[43mcolumns\u001b[49m\u001b[43m=\u001b[49m\u001b[43m[\u001b[49m\u001b[33;43m'\u001b[39;49m\u001b[33;43mDoctorInCharge\u001b[39;49m\u001b[33;43m'\u001b[39;49m\u001b[43m]\u001b[49m\u001b[43m,\u001b[49m\u001b[43m \u001b[49m\u001b[43minplace\u001b[49m\u001b[43m=\u001b[49m\u001b[38;5;28;43;01mTrue\u001b[39;49;00m\u001b[43m)\u001b[49m\n\u001b[32m      7\u001b[39m \u001b[38;5;28mprint\u001b[39m(df.head())\n\u001b[32m      9\u001b[39m \u001b[38;5;66;03m# if you see an error its only because the column was already \u001b[39;00m\n\u001b[32m     10\u001b[39m \u001b[38;5;66;03m# dropped and i accidentally ran the cell again\u001b[39;00m\n",
      "\u001b[36mFile \u001b[39m\u001b[32mc:\\Users\\Kim Jong Un\\AppData\\Local\\Programs\\Python\\Python313\\Lib\\site-packages\\pandas\\core\\frame.py:5588\u001b[39m, in \u001b[36mDataFrame.drop\u001b[39m\u001b[34m(self, labels, axis, index, columns, level, inplace, errors)\u001b[39m\n\u001b[32m   5440\u001b[39m \u001b[38;5;28;01mdef\u001b[39;00m\u001b[38;5;250m \u001b[39m\u001b[34mdrop\u001b[39m(\n\u001b[32m   5441\u001b[39m     \u001b[38;5;28mself\u001b[39m,\n\u001b[32m   5442\u001b[39m     labels: IndexLabel | \u001b[38;5;28;01mNone\u001b[39;00m = \u001b[38;5;28;01mNone\u001b[39;00m,\n\u001b[32m   (...)\u001b[39m\u001b[32m   5449\u001b[39m     errors: IgnoreRaise = \u001b[33m\"\u001b[39m\u001b[33mraise\u001b[39m\u001b[33m\"\u001b[39m,\n\u001b[32m   5450\u001b[39m ) -> DataFrame | \u001b[38;5;28;01mNone\u001b[39;00m:\n\u001b[32m   5451\u001b[39m \u001b[38;5;250m    \u001b[39m\u001b[33;03m\"\"\"\u001b[39;00m\n\u001b[32m   5452\u001b[39m \u001b[33;03m    Drop specified labels from rows or columns.\u001b[39;00m\n\u001b[32m   5453\u001b[39m \n\u001b[32m   (...)\u001b[39m\u001b[32m   5586\u001b[39m \u001b[33;03m            weight  1.0     0.8\u001b[39;00m\n\u001b[32m   5587\u001b[39m \u001b[33;03m    \"\"\"\u001b[39;00m\n\u001b[32m-> \u001b[39m\u001b[32m5588\u001b[39m     \u001b[38;5;28;01mreturn\u001b[39;00m \u001b[38;5;28;43msuper\u001b[39;49m\u001b[43m(\u001b[49m\u001b[43m)\u001b[49m\u001b[43m.\u001b[49m\u001b[43mdrop\u001b[49m\u001b[43m(\u001b[49m\n\u001b[32m   5589\u001b[39m \u001b[43m        \u001b[49m\u001b[43mlabels\u001b[49m\u001b[43m=\u001b[49m\u001b[43mlabels\u001b[49m\u001b[43m,\u001b[49m\n\u001b[32m   5590\u001b[39m \u001b[43m        \u001b[49m\u001b[43maxis\u001b[49m\u001b[43m=\u001b[49m\u001b[43maxis\u001b[49m\u001b[43m,\u001b[49m\n\u001b[32m   5591\u001b[39m \u001b[43m        \u001b[49m\u001b[43mindex\u001b[49m\u001b[43m=\u001b[49m\u001b[43mindex\u001b[49m\u001b[43m,\u001b[49m\n\u001b[32m   5592\u001b[39m \u001b[43m        \u001b[49m\u001b[43mcolumns\u001b[49m\u001b[43m=\u001b[49m\u001b[43mcolumns\u001b[49m\u001b[43m,\u001b[49m\n\u001b[32m   5593\u001b[39m \u001b[43m        \u001b[49m\u001b[43mlevel\u001b[49m\u001b[43m=\u001b[49m\u001b[43mlevel\u001b[49m\u001b[43m,\u001b[49m\n\u001b[32m   5594\u001b[39m \u001b[43m        \u001b[49m\u001b[43minplace\u001b[49m\u001b[43m=\u001b[49m\u001b[43minplace\u001b[49m\u001b[43m,\u001b[49m\n\u001b[32m   5595\u001b[39m \u001b[43m        \u001b[49m\u001b[43merrors\u001b[49m\u001b[43m=\u001b[49m\u001b[43merrors\u001b[49m\u001b[43m,\u001b[49m\n\u001b[32m   5596\u001b[39m \u001b[43m    \u001b[49m\u001b[43m)\u001b[49m\n",
      "\u001b[36mFile \u001b[39m\u001b[32mc:\\Users\\Kim Jong Un\\AppData\\Local\\Programs\\Python\\Python313\\Lib\\site-packages\\pandas\\core\\generic.py:4807\u001b[39m, in \u001b[36mNDFrame.drop\u001b[39m\u001b[34m(self, labels, axis, index, columns, level, inplace, errors)\u001b[39m\n\u001b[32m   4805\u001b[39m \u001b[38;5;28;01mfor\u001b[39;00m axis, labels \u001b[38;5;129;01min\u001b[39;00m axes.items():\n\u001b[32m   4806\u001b[39m     \u001b[38;5;28;01mif\u001b[39;00m labels \u001b[38;5;129;01mis\u001b[39;00m \u001b[38;5;129;01mnot\u001b[39;00m \u001b[38;5;28;01mNone\u001b[39;00m:\n\u001b[32m-> \u001b[39m\u001b[32m4807\u001b[39m         obj = \u001b[43mobj\u001b[49m\u001b[43m.\u001b[49m\u001b[43m_drop_axis\u001b[49m\u001b[43m(\u001b[49m\u001b[43mlabels\u001b[49m\u001b[43m,\u001b[49m\u001b[43m \u001b[49m\u001b[43maxis\u001b[49m\u001b[43m,\u001b[49m\u001b[43m \u001b[49m\u001b[43mlevel\u001b[49m\u001b[43m=\u001b[49m\u001b[43mlevel\u001b[49m\u001b[43m,\u001b[49m\u001b[43m \u001b[49m\u001b[43merrors\u001b[49m\u001b[43m=\u001b[49m\u001b[43merrors\u001b[49m\u001b[43m)\u001b[49m\n\u001b[32m   4809\u001b[39m \u001b[38;5;28;01mif\u001b[39;00m inplace:\n\u001b[32m   4810\u001b[39m     \u001b[38;5;28mself\u001b[39m._update_inplace(obj)\n",
      "\u001b[36mFile \u001b[39m\u001b[32mc:\\Users\\Kim Jong Un\\AppData\\Local\\Programs\\Python\\Python313\\Lib\\site-packages\\pandas\\core\\generic.py:4849\u001b[39m, in \u001b[36mNDFrame._drop_axis\u001b[39m\u001b[34m(self, labels, axis, level, errors, only_slice)\u001b[39m\n\u001b[32m   4847\u001b[39m         new_axis = axis.drop(labels, level=level, errors=errors)\n\u001b[32m   4848\u001b[39m     \u001b[38;5;28;01melse\u001b[39;00m:\n\u001b[32m-> \u001b[39m\u001b[32m4849\u001b[39m         new_axis = \u001b[43maxis\u001b[49m\u001b[43m.\u001b[49m\u001b[43mdrop\u001b[49m\u001b[43m(\u001b[49m\u001b[43mlabels\u001b[49m\u001b[43m,\u001b[49m\u001b[43m \u001b[49m\u001b[43merrors\u001b[49m\u001b[43m=\u001b[49m\u001b[43merrors\u001b[49m\u001b[43m)\u001b[49m\n\u001b[32m   4850\u001b[39m     indexer = axis.get_indexer(new_axis)\n\u001b[32m   4852\u001b[39m \u001b[38;5;66;03m# Case for non-unique axis\u001b[39;00m\n\u001b[32m   4853\u001b[39m \u001b[38;5;28;01melse\u001b[39;00m:\n",
      "\u001b[36mFile \u001b[39m\u001b[32mc:\\Users\\Kim Jong Un\\AppData\\Local\\Programs\\Python\\Python313\\Lib\\site-packages\\pandas\\core\\indexes\\base.py:7098\u001b[39m, in \u001b[36mIndex.drop\u001b[39m\u001b[34m(self, labels, errors)\u001b[39m\n\u001b[32m   7096\u001b[39m \u001b[38;5;28;01mif\u001b[39;00m mask.any():\n\u001b[32m   7097\u001b[39m     \u001b[38;5;28;01mif\u001b[39;00m errors != \u001b[33m\"\u001b[39m\u001b[33mignore\u001b[39m\u001b[33m\"\u001b[39m:\n\u001b[32m-> \u001b[39m\u001b[32m7098\u001b[39m         \u001b[38;5;28;01mraise\u001b[39;00m \u001b[38;5;167;01mKeyError\u001b[39;00m(\u001b[33mf\u001b[39m\u001b[33m\"\u001b[39m\u001b[38;5;132;01m{\u001b[39;00mlabels[mask].tolist()\u001b[38;5;132;01m}\u001b[39;00m\u001b[33m not found in axis\u001b[39m\u001b[33m\"\u001b[39m)\n\u001b[32m   7099\u001b[39m     indexer = indexer[~mask]\n\u001b[32m   7100\u001b[39m \u001b[38;5;28;01mreturn\u001b[39;00m \u001b[38;5;28mself\u001b[39m.delete(indexer)\n",
      "\u001b[31mKeyError\u001b[39m: \"['DoctorInCharge'] not found in axis\""
     ]
    }
   ],
   "source": [
    "print(df.isna().sum())\n",
    "\n",
    "# no row has null values\n",
    "\n",
    "# DoctorInCharge column is 'confidential' for every row so it is not needed\n",
    "df.drop(columns=['DoctorInCharge'], inplace=True)\n",
    "print(df.head())\n",
    "\n",
    "# if you see an error its only because the column was already \n",
    "# dropped and i accidentally ran the cell again\n"
   ]
  },
  {
   "cell_type": "code",
   "execution_count": null,
   "metadata": {},
   "outputs": [
    {
     "name": "stdout",
     "output_type": "stream",
     "text": [
      "Ethnicity  Diagnosis\n",
      "0          0            655\n",
      "           1            444\n",
      "1          0            206\n",
      "           1            151\n",
      "2          0            130\n",
      "           1             76\n",
      "3          0            136\n",
      "           1             81\n",
      "dtype: int64\n"
     ]
    }
   ],
   "source": [
    "# answer question1 \n",
    "print(df.groupby(['Ethnicity', 'Diagnosis']).size())"
   ]
  },
  {
   "cell_type": "code",
   "execution_count": 14,
   "metadata": {},
   "outputs": [
    {
     "name": "stdout",
     "output_type": "stream",
     "text": [
      "Age\n",
      "20-29    269\n",
      "30-39    253\n",
      "40-49    271\n",
      "50-59    268\n",
      "60-69    271\n",
      "70-79    260\n",
      "80-90    287\n",
      "Name: count, dtype: int64\n"
     ]
    }
   ],
   "source": [
    "# answer question 2\n",
    "bins = [19, 29, 39, 49, 59, 69, 79, 90]\n",
    "labels = ['20-29', '30-39', '40-49', '50-59', '60-69', '70-79', '80-90']\n",
    "print(pd.cut(df['Age'], bins=bins, labels=labels).value_counts().sort_index())"
   ]
  },
  {
   "cell_type": "code",
   "execution_count": 16,
   "metadata": {},
   "outputs": [
    {
     "name": "stdout",
     "output_type": "stream",
     "text": [
      "SocioeconomicStatus  Diagnosis\n",
      "0                    0            347\n",
      "                     1            210\n",
      "1                    0            460\n",
      "                     1            320\n",
      "2                    0            320\n",
      "                     1            222\n",
      "dtype: int64\n",
      "0.6051873198847262, 0.6956521739130435, 0.69375\n"
     ]
    }
   ],
   "source": [
    "# answer question 3\n",
    "print(df.groupby(['SocioeconomicStatus', 'Diagnosis']).size())\n",
    "print(f'{210/347}, {320/460}, {222/320}')"
   ]
  },
  {
   "cell_type": "code",
   "execution_count": 18,
   "metadata": {},
   "outputs": [
    {
     "name": "stdout",
     "output_type": "stream",
     "text": [
      "EducationLevel  Diagnosis\n",
      "0               0            103\n",
      "                1             60\n",
      "1               0            363\n",
      "                1            252\n",
      "2               0            429\n",
      "                1            296\n",
      "3               0            232\n",
      "                1            144\n",
      "dtype: int64\n",
      "0.5825242718446602, 0.6942148760330579, 0.6899766899766899, 0.6206896551724138\n"
     ]
    }
   ],
   "source": [
    "# answer question 4\n",
    "print(df.groupby(['EducationLevel', 'Diagnosis']).size())\n",
    "print(f'{60/103}, {252/363}, {296/429}, {144/232}')"
   ]
  },
  {
   "cell_type": "code",
   "execution_count": 21,
   "metadata": {},
   "outputs": [
    {
     "name": "stdout",
     "output_type": "stream",
     "text": [
      "HealthLiteracyInterval  Diagnosis\n",
      "[1, 2)                  0            129\n",
      "                        1             69\n",
      "[2, 3)                  0            109\n",
      "                        1             79\n",
      "[3, 4)                  0            100\n",
      "                        1             71\n",
      "[4, 5)                  0            109\n",
      "                        1             76\n",
      "[5, 6)                  0             93\n",
      "                        1             87\n",
      "[6, 7)                  0            123\n",
      "                        1             66\n",
      "[7, 8)                  0            111\n",
      "                        1             74\n",
      "[8, 9)                  0            128\n",
      "                        1             69\n",
      "[9, 10)                 0            116\n",
      "                        1             77\n",
      "dtype: int64\n"
     ]
    },
    {
     "name": "stderr",
     "output_type": "stream",
     "text": [
      "C:\\Users\\Kim Jong Un\\AppData\\Local\\Temp\\ipykernel_20812\\2366093626.py:4: FutureWarning: The default of observed=False is deprecated and will be changed to True in a future version of pandas. Pass observed=False to retain current behavior or observed=True to adopt the future default and silence this warning.\n",
      "  print(df.groupby(['HealthLiteracyInterval', 'Diagnosis']).size())\n"
     ]
    }
   ],
   "source": [
    "# answer question 5\n",
    "bins = range(1,11)\n",
    "df['HealthLiteracyInterval'] = pd.cut(df['HealthLiteracy'], bins=bins, right=False)\n",
    "print(df.groupby(['HealthLiteracyInterval', 'Diagnosis']).size())"
   ]
  },
  {
   "cell_type": "code",
   "execution_count": 22,
   "metadata": {},
   "outputs": [
    {
     "name": "stdout",
     "output_type": "stream",
     "text": [
      "HealthLiteracyInterval  EducationLevel\n",
      "[1, 2)                  0                 18\n",
      "                        1                 56\n",
      "                        2                 84\n",
      "                        3                 40\n",
      "[2, 3)                  0                 19\n",
      "                        1                 64\n",
      "                        2                 66\n",
      "                        3                 39\n",
      "[3, 4)                  0                 19\n",
      "                        1                 49\n",
      "                        2                 69\n",
      "                        3                 34\n",
      "[4, 5)                  0                 14\n",
      "                        1                 65\n",
      "                        2                 75\n",
      "                        3                 31\n",
      "[5, 6)                  0                 12\n",
      "                        1                 59\n",
      "                        2                 69\n",
      "                        3                 40\n",
      "[6, 7)                  0                 21\n",
      "                        1                 56\n",
      "                        2                 75\n",
      "                        3                 37\n",
      "[7, 8)                  0                 11\n",
      "                        1                 62\n",
      "                        2                 88\n",
      "                        3                 24\n",
      "[8, 9)                  0                 18\n",
      "                        1                 67\n",
      "                        2                 69\n",
      "                        3                 43\n",
      "[9, 10)                 0                 18\n",
      "                        1                 68\n",
      "                        2                 66\n",
      "                        3                 41\n",
      "dtype: int64\n"
     ]
    },
    {
     "name": "stderr",
     "output_type": "stream",
     "text": [
      "C:\\Users\\Kim Jong Un\\AppData\\Local\\Temp\\ipykernel_20812\\1332208310.py:2: FutureWarning: The default of observed=False is deprecated and will be changed to True in a future version of pandas. Pass observed=False to retain current behavior or observed=True to adopt the future default and silence this warning.\n",
      "  print(df.groupby(['HealthLiteracyInterval', 'EducationLevel']).size())\n"
     ]
    }
   ],
   "source": [
    "# answer question 6\n",
    "print(df.groupby(['HealthLiteracyInterval', 'EducationLevel']).size())"
   ]
  }
 ],
 "metadata": {
  "kernelspec": {
   "display_name": "Python 3",
   "language": "python",
   "name": "python3"
  },
  "language_info": {
   "codemirror_mode": {
    "name": "ipython",
    "version": 3
   },
   "file_extension": ".py",
   "mimetype": "text/x-python",
   "name": "python",
   "nbconvert_exporter": "python",
   "pygments_lexer": "ipython3",
   "version": "3.13.4"
  }
 },
 "nbformat": 4,
 "nbformat_minor": 2
}
